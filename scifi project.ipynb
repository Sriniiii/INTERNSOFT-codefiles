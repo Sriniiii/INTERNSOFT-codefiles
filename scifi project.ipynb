{
 "cells": [
  {
   "cell_type": "code",
   "execution_count": 4,
   "metadata": {},
   "outputs": [],
   "source": [
    "import os\n",
    "import time\n",
    "import subprocess\n",
    "import json"
   ]
  },
  {
   "cell_type": "code",
   "execution_count": 5,
   "metadata": {},
   "outputs": [],
   "source": [
    "import wolframalpha\n",
    "import requests\n",
    "import webbrowser\n",
    "import wikipedia\n",
    "import datetime"
   ]
  },
  {
   "cell_type": "code",
   "execution_count": 6,
   "metadata": {},
   "outputs": [],
   "source": [
    "import speech_recognition as sr\n",
    "import pyttsx3"
   ]
  },
  {
   "cell_type": "code",
   "execution_count": 7,
   "metadata": {},
   "outputs": [
    {
     "name": "stdout",
     "output_type": "stream",
     "text": [
      "LOADING YUR PERSONAL A.I ASSISTANT JARVIS\n"
     ]
    }
   ],
   "source": [
    "print('LOADING YUR PERSONAL A.I ASSISTANT JARVIS')"
   ]
  },
  {
   "cell_type": "code",
   "execution_count": 8,
   "metadata": {},
   "outputs": [],
   "source": [
    "engine=pyttsx3.init('sapi5')\n",
    "voices=engine.getProperty('voices')\n",
    "engine.setProperty(\"voices\",'voices[0].id')"
   ]
  },
  {
   "cell_type": "code",
   "execution_count": 9,
   "metadata": {},
   "outputs": [],
   "source": [
    " def speak(text):\n",
    "        engine.say(text)\n",
    "        engine.runAndWait"
   ]
  },
  {
   "cell_type": "code",
   "execution_count": 10,
   "metadata": {},
   "outputs": [],
   "source": [
    "def wishMe():\n",
    "    hour=datetime.datetime.now().hour\n",
    "    if hour >=0 and hour < 12:\n",
    "        speak(\"heyy,goooood morningggg Miss Srinidhi\")\n",
    "        print(\"heyy,goooood morningggg Miss Srinidhi\")\n",
    "    elif hour >=12 and hour <= 19:\n",
    "        speak(\"heyyyaya,goood eveninggg sriniiii\")\n",
    "        print(\"heyyyaya,goood eveninggg sriniiii\")\n",
    "    else:\n",
    "        speak(\"its time to sleeeppp srini\")\n",
    "        print(\"its time to sleeeppp srini\")\n",
    "              "
   ]
  },
  {
   "cell_type": "code",
   "execution_count": 11,
   "metadata": {},
   "outputs": [],
   "source": [
    "def takeCommand():\n",
    "    r = sr.Recognizer()\n",
    "    with sr.Microphone() as source:\n",
    "        print(\"i am LISTENING\")\n",
    "        audio = r.listen(source)\n",
    "        \n",
    "        try:\n",
    "            statement = r.recognize_google(audio,language='en-in')\n",
    "            print(f\"user said:{statement}\\n\")\n",
    "            \n",
    "        except Exception as e:\n",
    "            speak(\"pardon me, please say that again\")\n",
    "            return \"None\"\n",
    "        return statement"
   ]
  },
  {
   "cell_type": "code",
   "execution_count": 12,
   "metadata": {},
   "outputs": [
    {
     "name": "stdout",
     "output_type": "stream",
     "text": [
      "its time to sleeeppp srini\n"
     ]
    }
   ],
   "source": [
    "speak(\"LOADING YOUT PERSONAL A.I ASSISTANT JARVIS\")\n",
    "wishMe()"
   ]
  },
  {
   "cell_type": "code",
   "execution_count": 18,
   "metadata": {},
   "outputs": [
    {
     "name": "stdout",
     "output_type": "stream",
     "text": [
      "i am LISTENING\n",
      "user said:hey Jarvis\n",
      "\n",
      "i was built by AIrobosoft\n",
      "i am LISTENING\n",
      "user said:who are you\n",
      "\n",
      "i am LISTENING\n",
      "i was built by AIrobosoft\n",
      "i am LISTENING\n",
      "i was built by AIrobosoft\n",
      "i am LISTENING\n",
      "user said:hey Jarvis who created you\n",
      "\n",
      "i was built by AIrobosoft\n",
      "i am LISTENING\n",
      "user said:open stack overflow\n",
      "\n",
      "i was built by AIrobosoft\n",
      "i am LISTENING\n",
      "i was built by AIrobosoft\n",
      "i am LISTENING\n",
      "i was built by AIrobosoft\n",
      "i am LISTENING\n",
      "i was built by AIrobosoft\n",
      "i am LISTENING\n",
      "user said:news\n",
      "\n",
      "i was built by AIrobosoft\n",
      "i am LISTENING\n",
      "i was built by AIrobosoft\n",
      "i am LISTENING\n",
      "user said:open news\n",
      "\n",
      "i was built by AIrobosoft\n",
      "i am LISTENING\n",
      "user said:open Blue open\n",
      "\n",
      "i was built by AIrobosoft\n",
      "i am LISTENING\n",
      "i was built by AIrobosoft\n",
      "i am LISTENING\n",
      "i was built by AIrobosoft\n",
      "i am LISTENING\n",
      "user said:please open YouTube\n",
      "\n",
      "i am LISTENING\n",
      "user said:can I ask you something\n",
      "\n",
      "i was built by AIrobosoft\n",
      "i am LISTENING\n",
      "i was built by AIrobosoft\n",
      "i am LISTENING\n",
      "i was built by AIrobosoft\n",
      "i am LISTENING\n",
      "user said:can you search something\n",
      "\n",
      "i was built by AIrobosoft\n",
      "i am LISTENING\n",
      "user said:can you download my Instagram Picture\n",
      "\n",
      "i was built by AIrobosoft\n",
      "i am LISTENING\n",
      "i was built by AIrobosoft\n",
      "i am LISTENING\n",
      "user said:what's the time\n",
      "\n",
      "i am LISTENING\n",
      "user said:hey Jarvis open stack overflow\n",
      "\n",
      "i was built by AIrobosoft\n",
      "i am LISTENING\n",
      "i was built by AIrobosoft\n",
      "i am LISTENING\n",
      "i was built by AIrobosoft\n",
      "i am LISTENING\n",
      "i was built by AIrobosoft\n",
      "i am LISTENING\n",
      "user said:goodbye\n",
      "\n",
      "i was built by AIrobosoft\n",
      "i am LISTENING\n",
      "i was built by AIrobosoft\n",
      "i am LISTENING\n",
      "user said:a Jarvis\n",
      "\n",
      "i was built by AIrobosoft\n",
      "i am LISTENING\n",
      "i was built by AIrobosoft\n",
      "i am LISTENING\n",
      "user said:what's the weather today\n",
      "\n",
      "i am LISTENING\n"
     ]
    },
    {
     "ename": "KeyError",
     "evalue": "'main'",
     "output_type": "error",
     "traceback": [
      "\u001b[1;31m---------------------------------------------------------------------------\u001b[0m",
      "\u001b[1;31mKeyError\u001b[0m                                  Traceback (most recent call last)",
      "\u001b[1;32m<ipython-input-18-3392fd21c45d>\u001b[0m in \u001b[0;36m<module>\u001b[1;34m\u001b[0m\n\u001b[0;32m     37\u001b[0m             \u001b[0mx\u001b[0m\u001b[1;33m=\u001b[0m\u001b[0mresponse\u001b[0m\u001b[1;33m.\u001b[0m\u001b[0mjson\u001b[0m\u001b[1;33m(\u001b[0m\u001b[1;33m)\u001b[0m\u001b[1;33m\u001b[0m\u001b[1;33m\u001b[0m\u001b[0m\n\u001b[0;32m     38\u001b[0m             \u001b[1;32mif\u001b[0m \u001b[0mx\u001b[0m\u001b[1;33m[\u001b[0m\u001b[1;34m\"cod\"\u001b[0m\u001b[1;33m]\u001b[0m\u001b[1;33m!=\u001b[0m\u001b[1;34m\"404\"\u001b[0m\u001b[1;33m:\u001b[0m\u001b[1;33m\u001b[0m\u001b[1;33m\u001b[0m\u001b[0m\n\u001b[1;32m---> 39\u001b[1;33m                 \u001b[0my\u001b[0m\u001b[1;33m=\u001b[0m\u001b[0mx\u001b[0m\u001b[1;33m[\u001b[0m\u001b[1;34m\"main\"\u001b[0m\u001b[1;33m]\u001b[0m\u001b[1;33m\u001b[0m\u001b[1;33m\u001b[0m\u001b[0m\n\u001b[0m\u001b[0;32m     40\u001b[0m                 \u001b[0mcurrent_temperature\u001b[0m\u001b[1;33m=\u001b[0m\u001b[0my\u001b[0m\u001b[1;33m[\u001b[0m\u001b[1;34m\"temp\"\u001b[0m\u001b[1;33m]\u001b[0m\u001b[1;33m\u001b[0m\u001b[1;33m\u001b[0m\u001b[0m\n\u001b[0;32m     41\u001b[0m                 \u001b[0mcurrent_humidity\u001b[0m\u001b[1;33m=\u001b[0m\u001b[0my\u001b[0m\u001b[1;33m[\u001b[0m\u001b[1;34m\"humidity\"\u001b[0m\u001b[1;33m]\u001b[0m\u001b[1;33m\u001b[0m\u001b[1;33m\u001b[0m\u001b[0m\n",
      "\u001b[1;31mKeyError\u001b[0m: 'main'"
     ]
    }
   ],
   "source": [
    "if __name__=='__main__':\n",
    "    while True:\n",
    "        speak(\"how may i help you srini?\")\n",
    "        statement=takeCommand().lower()\n",
    "        if statement==0:\n",
    "            continue\n",
    "        if \"good bye\" in statement or \"ok bye\" in statement or \"stop\" in statement:\n",
    "            speak(\"YOUR PERSONAL A.I assistant should shut down\")\n",
    "            print(\"YOUR PERSONAL A.I assistant should shut down\")\n",
    "            break\n",
    "        if \"wikipedia\" in statement:\n",
    "            speak(\"searching wikipedia........\")\n",
    "            statement=statement.replace(\"wikipedia\",\" \")\n",
    "            results=wikepedia.summary(statement,sentences=3)\n",
    "            speak(\"Accoding to wikipedia...\")\n",
    "            print(results)\n",
    "            speak(results)\n",
    "        elif \"open youtube\"in statement:\n",
    "            webbrowser.open_new_tab(\"https://www.youtube.com\")\n",
    "            speak(\"youtube is open for you\")\n",
    "            time.sleep(5)\n",
    "        elif \"open google\" in statement:\n",
    "            webbrowser.open_new_tab(\"https://www.google.com\")\n",
    "            speak(\"google is open for you\")\n",
    "            time.sleep(5)\n",
    "        elif \"open gmail\" in statement:\n",
    "            webbrowser.open_new_tab(\"gmail.com\")\n",
    "            speak(\"your email is open for you\")\n",
    "            time.sleep(5)\n",
    "        elif \"weather\" in statement:\n",
    "            api_key=\"8ef61edcf1c576d65d836254e11ea420\"\n",
    "            base_url=\"https://api.openweathermap.org/data/2.5/weather?\"\n",
    "            speak(\"whats the city name?\")\n",
    "            city_name=takeCommand()\n",
    "            complete_url=base_url+\"appid = \"+api_key+\"&q=\"+city_name\n",
    "            response=requests.get(complete_url)\n",
    "            x=response.json()\n",
    "            if x[\"cod\"]!=\"404\":\n",
    "                y=x[\"main\"]\n",
    "                current_temperature=y[\"temp\"]\n",
    "                current_humidity=y[\"humidity\"]\n",
    "                z=x[weather]\n",
    "                weather_description=z[0][\"description\"]\n",
    "                speak(\"the temperature in kelvin in units is\"+str(current_temperature)+\"\\n humidity in percentage is\"+str(current_humidity)+\"\\n weather description\"+str(weather_description))\n",
    "                print(\"the temperature in kelvin in units is\"+str(current_temperature)+\"\\n humidity in percentage is\"+str(current_humidity)+\"\\n weather description\"+str(weather_description))\n",
    "            else:\n",
    "                print(\"city not found\")\n",
    "                speak(\"city not found\")\n",
    "        elif \"time\" in statement:\n",
    "            strTime = datetime.datetime.now().strftime(\"%H:%M:%S\")\n",
    "            speak(f\"time is {strTime}\")\n",
    "        elif \"who are you\"in statement or \"what can you do\" in statement:\n",
    "            speak('I am JARVIS version 1 point O your personal assistant.I am programmed to minor tasks like'\n",
    "                          'opening youtube,google chrome, gmail and stack overflow,predict time,take a photo,search wikipedia,predict weather'\n",
    "                          'in different cities,get top headline news from times of India and you can ask me computational or geographical questions too!')\n",
    "        elif \"who created you\" in statement or \"who made you\":\n",
    "            speak(\"i was built by AIrobosoft\")\n",
    "            print(\"i was built by AIrobosoft\")\n",
    "        elif \"open stack overflow\" in statement:\n",
    "            webbrowser.open_new_tab(\"https://stackoverflow.com/login\")\n",
    "            time.sleep(5)\n",
    "        elif \"news\" in statement:\n",
    "            news=webbrowser.open_new_tab(\"https://timesofindia.indiatimes.com/home/headlines\")\n",
    "            speak(\"here are some headlines from times of india-happyy reading\")\n",
    "            time.sleep(8)\n",
    "        elif \"search\" in statement:\n",
    "            statement=statement.replace(\"search\",\"\")\n",
    "            webbrowser.open_new_tab(\"statement\")\n",
    "            time.sleep(5)\n",
    "        elif \"ask\" in staement:\n",
    "            \n",
    "            speak(\"I can answer to computational & geographical questions too just try me out !! what do you want to ask? \")\n",
    "            question = takeCommand()\n",
    "            app_id = \"R2K75H-7ELALHR35X\"\n",
    "            client = wolframalpha.Client('R2K75H-7ELALHR35X')\n",
    "            res = client.query(question)\n",
    "            answer = next(res.results).text\n",
    "            speak(answer)\n",
    "            print(answer)\n",
    "        elif \"logoff\" in statement:\n",
    "            speak(\"ok, your PC will shut down in 10 seconds-make sure youve saved all the  and exit from all applications\")\n",
    "            subprocess.call([\"shutdown\",\"/1\"])\n",
    "            time.sleep(5)\n",
    "        \n",
    "    "
   ]
  },
  {
   "cell_type": "code",
   "execution_count": null,
   "metadata": {},
   "outputs": [],
   "source": []
  }
 ],
 "metadata": {
  "kernelspec": {
   "display_name": "Python 3",
   "language": "python",
   "name": "python3"
  },
  "language_info": {
   "codemirror_mode": {
    "name": "ipython",
    "version": 3
   },
   "file_extension": ".py",
   "mimetype": "text/x-python",
   "name": "python",
   "nbconvert_exporter": "python",
   "pygments_lexer": "ipython3",
   "version": "3.8.3"
  }
 },
 "nbformat": 4,
 "nbformat_minor": 4
}
